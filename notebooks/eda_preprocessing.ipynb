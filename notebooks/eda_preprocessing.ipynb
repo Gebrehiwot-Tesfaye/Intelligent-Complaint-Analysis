{
 "cells": [
  {
   "cell_type": "markdown",
   "id": "bfbad813",
   "metadata": {},
   "source": [
    "# Exploratory Data Analysis and Preprocessing\n",
    "This notebook loads the CFPB complaints dataset, performs EDA, and preprocesses the data for the RAG pipeline."
   ]
  },
  {
   "cell_type": "code",
   "execution_count": null,
   "id": "fe7d3ab7",
   "metadata": {},
   "outputs": [],
   "source": [
    "# Import required libraries\n",
    "import pandas as pd\n",
    "import numpy as np\n",
    "import matplotlib.pyplot as plt\n",
    "import seaborn as sns\n",
    "from collections import Counter\n",
    "import re"
   ]
  },
  {
   "cell_type": "code",
   "execution_count": null,
   "id": "30c2a35e",
   "metadata": {},
   "outputs": [],
   "source": [
    "# Load the dataset\n",
    "df = pd.read_csv('../data/complaints.csv')\n",
    "df.head()"
   ]
  },
  {
   "cell_type": "markdown",
   "id": "e633c6c5",
   "metadata": {},
   "source": [
    "## Data Overview\n",
    "- Number of records\n",
    "- Columns\n",
    "- Sample rows"
   ]
  },
  {
   "cell_type": "code",
   "execution_count": null,
   "id": "939d6570",
   "metadata": {},
   "outputs": [],
   "source": [
    "print('Number of records:', len(df))\n",
    "print('Columns:', df.columns.tolist())\n",
    "df.sample(5)"
   ]
  },
  {
   "cell_type": "markdown",
   "id": "cac85eb3",
   "metadata": {},
   "source": [
    "## Distribution of Complaints by Product"
   ]
  },
  {
   "cell_type": "code",
   "execution_count": null,
   "id": "a9e6a7c2",
   "metadata": {},
   "outputs": [],
   "source": [
    "product_counts = df['Product'].value_counts()\n",
    "plt.figure(figsize=(10,5))\n",
    "sns.barplot(x=product_counts.index, y=product_counts.values)\n",
    "plt.title('Number of Complaints by Product')\n",
    "plt.ylabel('Count')\n",
    "plt.xlabel('Product')\n",
    "plt.xticks(rotation=45)\n",
    "plt.show()"
   ]
  },
  {
   "cell_type": "markdown",
   "id": "fa37dfa6",
   "metadata": {},
   "source": [
    "## Narrative Length Analysis"
   ]
  },
  {
   "cell_type": "code",
   "execution_count": null,
   "id": "0d9be553",
   "metadata": {},
   "outputs": [],
   "source": [
    "df['narrative_length'] = df['Consumer complaint narrative'].fillna('').apply(lambda x: len(x.split()))\n",
    "plt.figure(figsize=(10,5))\n",
    "sns.histplot(df['narrative_length'], bins=50, kde=True)\n",
    "plt.title('Distribution of Narrative Lengths')\n",
    "plt.xlabel('Word Count')\n",
    "plt.ylabel('Number of Complaints')\n",
    "plt.show()"
   ]
  },
  {
   "cell_type": "markdown",
   "id": "d426a614",
   "metadata": {},
   "source": [
    "## Complaints With and Without Narratives"
   ]
  },
  {
   "cell_type": "code",
   "execution_count": null,
   "id": "6ff97c8a",
   "metadata": {},
   "outputs": [],
   "source": [
    "with_narrative = df['Consumer complaint narrative'].notnull().sum()\n",
    "without_narrative = df['Consumer complaint narrative'].isnull().sum()\n",
    "print(f'Complaints with narrative: {with_narrative}')\n",
    "print(f'Complaints without narrative: {without_narrative}')"
   ]
  },
  {
   "cell_type": "markdown",
   "id": "26610d25",
   "metadata": {},
   "source": [
    "## Filter Dataset for Project Requirements\n",
    "- Only keep specified products\n",
    "- Remove empty narratives"
   ]
  },
  {
   "cell_type": "code",
   "execution_count": null,
   "id": "208d92b7",
   "metadata": {},
   "outputs": [],
   "source": [
    "products = ['Credit card', 'Personal loan', 'Buy Now, Pay Later', 'Savings account', 'Money transfer']\n",
    "filtered = df[df['Product'].isin(products)]\n",
    "filtered = filtered[filtered['Consumer complaint narrative'].notnull() & (filtered['Consumer complaint narrative'].str.strip() != '')]"
   ]
  },
  {
   "cell_type": "markdown",
   "id": "3503fe30",
   "metadata": {},
   "source": [
    "## Clean Text Narratives"
   ]
  },
  {
   "cell_type": "code",
   "execution_count": null,
   "id": "82054a0b",
   "metadata": {},
   "outputs": [],
   "source": [
    "def clean_text(text):\n",
    "    text = text.lower()\n",
    "    text = re.sub(r'[^a-zA-Z0-9]', '', text)\n",
    "    text = re.sub(r'i am writing to file a complaint', '', text)\n",
    "    text = re.sub(r'+', ' ', text).strip()\n",
    "    return text\n",
    "filtered['cleaned_narrative'] = filtered['Consumer complaint narrative'].apply(clean_text)\n",
    "filtered.head()"
   ]
  },
  {
   "cell_type": "markdown",
   "id": "da24f103",
   "metadata": {},
   "source": [
    "## Save Cleaned and Filtered Dataset"
   ]
  },
  {
   "cell_type": "code",
   "execution_count": null,
   "id": "6a283135",
   "metadata": {},
   "outputs": [],
   "source": [
    "filtered.to_csv('../data/filtered_complaints.csv', index=False)\n",
    "print('Filtered dataset saved to ../data/filtered_complaints.csv')"
   ]
  }
 ],
 "metadata": {
  "language_info": {
   "name": "python"
  }
 },
 "nbformat": 4,
 "nbformat_minor": 5
}
